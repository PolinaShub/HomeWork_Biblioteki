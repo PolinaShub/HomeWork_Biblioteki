{
 "cells": [
  {
   "cell_type": "markdown",
   "id": "cc7fb681",
   "metadata": {},
   "source": [
    "Task 1, 2, 3"
   ]
  },
  {
   "cell_type": "code",
   "execution_count": 18,
   "id": "ac93afa8",
   "metadata": {},
   "outputs": [
    {
     "name": "stdout",
     "output_type": "stream",
     "text": [
      "[[ 1  6]\n",
      " [ 2  8]\n",
      " [ 3 11]\n",
      " [ 3 10]\n",
      " [ 1  7]]\n"
     ]
    }
   ],
   "source": [
    "a = np.array([[1, 6], \n",
    "              [2, 8], \n",
    "              [3, 11], \n",
    "              [3, 10], \n",
    "              [1, 7]])\n",
    "print(a)"
   ]
  },
  {
   "cell_type": "code",
   "execution_count": 47,
   "id": "7817af28",
   "metadata": {},
   "outputs": [
    {
     "name": "stdout",
     "output_type": "stream",
     "text": [
      "Average values:  [2.  8.4]\n"
     ]
    }
   ],
   "source": [
    "mean_a = a.mean(axis=0)\n",
    "print(\"Average values: \", mean_a)"
   ]
  },
  {
   "cell_type": "code",
   "execution_count": 31,
   "id": "45e386f9",
   "metadata": {},
   "outputs": [
    {
     "name": "stdout",
     "output_type": "stream",
     "text": [
      "[[-1.  -2.4]\n",
      " [ 0.  -0.4]\n",
      " [ 1.   2.6]\n",
      " [ 1.   1.6]\n",
      " [-1.  -1.4]]\n"
     ]
    }
   ],
   "source": [
    "a_centered = np.subtract(a, mean_a)\n",
    "print(a_centered)"
   ]
  },
  {
   "cell_type": "code",
   "execution_count": 33,
   "id": "ead6a230",
   "metadata": {},
   "outputs": [
    {
     "name": "stdout",
     "output_type": "stream",
     "text": [
      "8.0\n"
     ]
    }
   ],
   "source": [
    "a1 = a_centered[:, 0]\n",
    "a2 = a_centered[:, 1]\n",
    "\n",
    "a_centered_sp = a1 @ a2\n",
    "print(a_centered_sp)"
   ]
  },
  {
   "cell_type": "code",
   "execution_count": 39,
   "id": "e87678c6",
   "metadata": {},
   "outputs": [
    {
     "name": "stdout",
     "output_type": "stream",
     "text": [
      "5\n"
     ]
    }
   ],
   "source": [
    "N = a.shape[0]\n",
    "print(N)"
   ]
  },
  {
   "cell_type": "code",
   "execution_count": 40,
   "id": "7efa06f6",
   "metadata": {},
   "outputs": [
    {
     "name": "stdout",
     "output_type": "stream",
     "text": [
      "2.0\n"
     ]
    }
   ],
   "source": [
    "B = a_centered_sp/(N-1)\n",
    "print(B)"
   ]
  },
  {
   "cell_type": "code",
   "execution_count": 43,
   "id": "d1240343",
   "metadata": {},
   "outputs": [
    {
     "name": "stdout",
     "output_type": "stream",
     "text": [
      "[[1.  2. ]\n",
      " [2.  4.3]]\n"
     ]
    }
   ],
   "source": [
    "m = np.cov(a.transpose())\n",
    "print(m)"
   ]
  },
  {
   "cell_type": "code",
   "execution_count": 46,
   "id": "230bd0fc",
   "metadata": {},
   "outputs": [
    {
     "name": "stdout",
     "output_type": "stream",
     "text": [
      "2.0\n"
     ]
    }
   ],
   "source": [
    "val = m [0, 1]\n",
    "print(val)"
   ]
  },
  {
   "cell_type": "code",
   "execution_count": null,
   "id": "fd2af8ca",
   "metadata": {},
   "outputs": [],
   "source": []
  }
 ],
 "metadata": {
  "kernelspec": {
   "display_name": "Python 3 (ipykernel)",
   "language": "python",
   "name": "python3"
  },
  "language_info": {
   "codemirror_mode": {
    "name": "ipython",
    "version": 3
   },
   "file_extension": ".py",
   "mimetype": "text/x-python",
   "name": "python",
   "nbconvert_exporter": "python",
   "pygments_lexer": "ipython3",
   "version": "3.9.7"
  }
 },
 "nbformat": 4,
 "nbformat_minor": 5
}
